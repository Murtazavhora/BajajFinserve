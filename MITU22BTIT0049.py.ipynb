{
 "cells": [
  {
   "cell_type": "code",
   "execution_count": 20,
   "id": "55be1999",
   "metadata": {},
   "outputs": [
    {
     "name": "stdout",
     "output_type": "stream",
     "text": [
      "Requirement already satisfied: pandas in d:\\users\\admin\\desktop\\lib\\site-packages (2.0.3)\n",
      "Requirement already satisfied: python-dateutil>=2.8.2 in d:\\users\\admin\\desktop\\lib\\site-packages (from pandas) (2.8.2)\n",
      "Requirement already satisfied: pytz>=2020.1 in d:\\users\\admin\\desktop\\lib\\site-packages (from pandas) (2023.3.post1)\n",
      "Requirement already satisfied: tzdata>=2022.1 in d:\\users\\admin\\desktop\\lib\\site-packages (from pandas) (2023.3)\n",
      "Requirement already satisfied: numpy>=1.21.0 in d:\\users\\admin\\desktop\\lib\\site-packages (from pandas) (1.24.3)\n",
      "Requirement already satisfied: six>=1.5 in d:\\users\\admin\\desktop\\lib\\site-packages (from python-dateutil>=2.8.2->pandas) (1.16.0)\n"
     ]
    }
   ],
   "source": [
    "!pip install pandas"
   ]
  },
  {
   "cell_type": "code",
   "execution_count": 32,
   "id": "48744909",
   "metadata": {},
   "outputs": [],
   "source": [
    "def run(path) :      \n",
    "    import pandas as pd \n",
    "    df=pd.read_excel(data-sample.xls)\n",
    "    def find_absent_streaks(attendance_df):\n",
    "        result=[]\n",
    "        for student_id in attendance_df['student_id'].unique():\n",
    "            student_data=attendance_df[attendance_df['student_id']==student_id]\n",
    "            start_date=None\n",
    "            absent_count=0\n",
    "        \n",
    "        for index,row in student_data.rows():\n",
    "            if row['status']=='Absent':\n",
    "                if start_date is None:\n",
    "                    start_date=row['attendance_date']\n",
    "                absence_count+=1\n",
    "            else:\n",
    "                if absent_count>3:\n",
    "                    end_date=student_data[index-1]['attendance_date']\n",
    "                    result.append([student_id,start_date,end_date,absent_count])\n",
    "                start_date=None\n",
    "                absent_count=0\n",
    "        if absent_count>3:\n",
    "            end_date=student_data[-1]['attendance_date']\n",
    "            result.append([student_id,start_date,end_date,absent_count])\n",
    "    return pd.DataFrame(result, columns=['student_id','absence_start_date', 'absent_end_date', 'total_absent_days'])\n",
    "    attendance_df=pd.read_excel('data-sample.xlsx')\n",
    "    absent_streaks=find_absent_streaks(attendance_df)\n",
    "    print(absence_streaks)\n",
    "    return df"
   ]
  },
  {
   "cell_type": "code",
   "execution_count": null,
   "id": "630914af",
   "metadata": {},
   "outputs": [],
   "source": []
  },
  {
   "cell_type": "code",
   "execution_count": null,
   "id": "e187c3ae",
   "metadata": {},
   "outputs": [],
   "source": []
  },
  {
   "cell_type": "code",
   "execution_count": null,
   "id": "3cca84a6",
   "metadata": {},
   "outputs": [],
   "source": []
  }
 ],
 "metadata": {
  "kernelspec": {
   "display_name": "Python 3 (ipykernel)",
   "language": "python",
   "name": "python3"
  },
  "language_info": {
   "codemirror_mode": {
    "name": "ipython",
    "version": 3
   },
   "file_extension": ".py",
   "mimetype": "text/x-python",
   "name": "python",
   "nbconvert_exporter": "python",
   "pygments_lexer": "ipython3",
   "version": "3.11.5"
  }
 },
 "nbformat": 4,
 "nbformat_minor": 5
}
